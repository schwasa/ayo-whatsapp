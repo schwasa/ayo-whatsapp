{
  "cells": [
    {
      "cell_type": "code",
      "metadata": {
        "source_hash": "537c56af",
        "execution_start": 1740401326027,
        "execution_millis": 4,
        "execution_context_id": "5d5a2773-fd2f-4495-b507-43b880a46e76",
        "cell_id": "41dea771305e47699da5c00c67e00a06",
        "deepnote_cell_type": "code"
      },
      "source": "def textprint(name):\n    print(name + ' sagt: \"Ich mag Python\"')\n\n\ntextprint('Sandro')",
      "block_group": "9e3dd420537242689317833696753209",
      "execution_count": 1,
      "outputs": [],
      "outputs_reference": null,
      "content_dependencies": null
    },
    {
      "cell_type": "code",
      "metadata": {
        "source_hash": "fdd3037",
        "execution_start": 1740401326096,
        "execution_millis": 0,
        "execution_context_id": "5d5a2773-fd2f-4495-b507-43b880a46e76",
        "cell_id": "04bfa760beca4989816c814c4482c7c3",
        "deepnote_cell_type": "code"
      },
      "source": "def textprint2(noun):\n    print('Ich mag ' + noun + '...' + '\\n\\n\\t' + '...immer mehr')\n\ntextprint2(\"Julia\")",
      "block_group": "a212b1be476d4cdb9a276a32178ded7d",
      "execution_count": 2,
      "outputs": [],
      "outputs_reference": null,
      "content_dependencies": null
    },
    {
      "cell_type": "code",
      "metadata": {
        "source_hash": "de3c1c14",
        "execution_start": 1740401326148,
        "execution_millis": 1,
        "execution_context_id": "5d5a2773-fd2f-4495-b507-43b880a46e76",
        "cell_id": "671b524b10ec4e11a06f97f6a703711b",
        "deepnote_cell_type": "code"
      },
      "source": "def typeprinter(x):\n    print(type(x))\n\ntypeprinter([\"Alex\", 5, 99.9])",
      "block_group": "239d834ef790443998f7c252251d1f92",
      "execution_count": 3,
      "outputs": [],
      "outputs_reference": null,
      "content_dependencies": null
    },
    {
      "cell_type": "code",
      "metadata": {
        "source_hash": "baeea3d1",
        "execution_start": 1740401326204,
        "execution_millis": 5424,
        "execution_context_id": "5d5a2773-fd2f-4495-b507-43b880a46e76",
        "cell_id": "36702fc7867242ceb12dcd0f2e3da59a",
        "deepnote_cell_type": "code"
      },
      "source": "def quadrieren():\n    x = input('Wie alt bist du (in Jahren)? ')\n    print('Du bist ' + x + ' Jahre alt')\n\nquadrieren()",
      "block_group": "b434d1d6d6ea4d31951cb863c8b159bf",
      "execution_count": 4,
      "outputs": [],
      "outputs_reference": null,
      "content_dependencies": null
    },
    {
      "cell_type": "code",
      "metadata": {
        "source_hash": "df97d921",
        "execution_start": 1740401331675,
        "execution_millis": 11153,
        "execution_context_id": "5d5a2773-fd2f-4495-b507-43b880a46e76",
        "cell_id": "777f1c0ba458406b984f895f0a73f78f",
        "deepnote_cell_type": "code"
      },
      "source": "x = int(input(\"Enter value of x \"))\ny = int(input(\"Enter value of y \"))\nz = x + y \nprint (z)",
      "block_group": "fb76c759ba94436abef52a7e5ed13e9a",
      "execution_count": 5,
      "outputs": [],
      "outputs_reference": null,
      "content_dependencies": null
    },
    {
      "cell_type": "code",
      "metadata": {
        "source_hash": "897ba0d6",
        "execution_start": 1740401342876,
        "execution_millis": 0,
        "execution_context_id": "5d5a2773-fd2f-4495-b507-43b880a46e76",
        "cell_id": "f9c2d73345cc4d8b84c07fbe2c6f8e79",
        "deepnote_cell_type": "code"
      },
      "source": "x = \"Test if github is working\"\nprint(x)",
      "block_group": "75fac21cd3fd438399cbed7abdd6d73f",
      "execution_count": 6,
      "outputs": [],
      "outputs_reference": null,
      "content_dependencies": null
    },
    {
      "cell_type": "markdown",
      "metadata": {
        "formattedRanges": [],
        "cell_id": "973b7d9027e4498bb81c818da3340857",
        "deepnote_cell_type": "text-cell-p"
      },
      "source": "This is another way of testing, if github integrations works properly",
      "block_group": "18aee5348cc74a0cbc09412823c02fdc"
    },
    {
      "cell_type": "markdown",
      "source": "<a style='text-decoration:none;line-height:16px;display:flex;color:#5B5B62;padding:10px;justify-content:end;' href='https://deepnote.com?utm_source=created-in-deepnote-cell&projectId=1d2b94e9-50f8-43c2-8fc6-79ecf9384424' target=\"_blank\">\n<img alt='Created in deepnote.com' style='display:inline;max-height:16px;margin:0px;margin-right:7.5px;' src='data:image/svg+xml;base64,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' > </img>\nCreated in <span style='font-weight:600;margin-left:4px;'>Deepnote</span></a>",
      "metadata": {
        "created_in_deepnote_cell": true,
        "deepnote_cell_type": "markdown"
      }
    }
  ],
  "nbformat": 4,
  "nbformat_minor": 0,
  "metadata": {
    "deepnote_notebook_id": "dfa4ba3ce0884115a951290f60a1fce9"
  }
}